{
 "cells": [
  {
   "cell_type": "raw",
   "id": "0ba29817",
   "metadata": {},
   "source": [
    "A Star Search (ASS)"
   ]
  },
  {
   "cell_type": "code",
   "execution_count": 3,
   "id": "7aec5a34",
   "metadata": {},
   "outputs": [],
   "source": [
    "def A_star(initial_state, is_goal_state, heuristic, successors):\n",
    "    # Initialize the open and closed sets\n",
    "    open_set = [(initial_state, 0, heuristic(initial_state), None)]\n",
    "    closed_set = set()\n",
    "    \n",
    "    while open_set:\n",
    "        # Choose the node with the lowest f-score\n",
    "        current_node, g_score, f_score, parent = min(open_set, key=lambda x: x[2])\n",
    "        \n",
    "        # Check if the current node is the goal\n",
    "        if is_goal_state(current_node):\n",
    "            # Reconstruct the path\n",
    "            path = [current_node]\n",
    "            while parent:\n",
    "                path.append(parent)\n",
    "                current_node, _, _, parent = parent\n",
    "            return path[::-1], f_score\n",
    "        \n",
    "        # Move the current node from the open to the closed set\n",
    "        open_set.remove((current_node, g_score, f_score, parent))\n",
    "        closed_set.add(current_node)\n",
    "        \n",
    "        # Expand the successors of the current node\n",
    "        for successor in successors(current_node):\n",
    "            if successor in closed_set:\n",
    "                continue\n",
    "                \n",
    "            g_score_successor = g_score + 1 # The cost of moving to a successor is 1 in this case\n",
    "            f_score_successor = g_score_successor + heuristic(successor)\n",
    "            parent_successor = (current_node, g_score, f_score, parent)\n",
    "            \n",
    "            if (successor, _, _, _) not in open_set:\n",
    "                # Add the successor to the open set\n",
    "                open_set.append((successor, g_score_successor, f_score_successor, parent_successor))\n",
    "            else:\n",
    "                # Update the g-score and parent of the successor if the new path is better\n",
    "                index = open_set.index((successor, _, _, _))\n",
    "                _, g_score_existing, _, parent_existing = open_set[index]\n",
    "                if g_score_successor < g_score_existing:\n",
    "                    open_set[index] = (successor, g_score_successor, f_score_successor, parent_successor)\n",
    "    \n",
    "    # If the open set is empty and the goal was not reached, return failure\n",
    "    return None, None"
   ]
  }
 ],
 "metadata": {
  "kernelspec": {
   "display_name": "Python 3 (ipykernel)",
   "language": "python",
   "name": "python3"
  },
  "language_info": {
   "codemirror_mode": {
    "name": "ipython",
    "version": 3
   },
   "file_extension": ".py",
   "mimetype": "text/x-python",
   "name": "python",
   "nbconvert_exporter": "python",
   "pygments_lexer": "ipython3",
   "version": "3.10.6"
  }
 },
 "nbformat": 4,
 "nbformat_minor": 5
}
