{
 "cells": [
  {
   "cell_type": "raw",
   "id": "ad4aaea8",
   "metadata": {},
   "source": [
    "Recursive Depth-Limited Search (RDLS)"
   ]
  },
  {
   "cell_type": "code",
   "execution_count": 1,
   "id": "3130d416",
   "metadata": {},
   "outputs": [],
   "source": [
    "# This function implements the Recursive depth-limited search algorithm for finding a node with a given value.\n",
    "# Parameters:\n",
    "#    xnode (Node) : the starting node for the search\n",
    "#    goal (object) : the value to search for\n",
    "#    limit (int) : the maximum depth to search to\n",
    "# Returns:\n",
    "#    True if the goal value is found in the tree rooted at xnode within the specified depth limit, False otherwise.\n",
    "\n",
    "def rdls(xnode, goal, limit):\n",
    "    if xnode.value == goal:\n",
    "        return True\n",
    "    elif limit == 0:\n",
    "        return False\n",
    "    else:\n",
    "        for child in xnode.children:\n",
    "            if rdls(child, goal, limit - 1):\n",
    "                return True\n",
    "        return False"
   ]
  },
  {
   "cell_type": "raw",
   "id": "3197539e",
   "metadata": {},
   "source": [
    "Iterative Deepening Depth-First Search (IDDFS) :"
   ]
  },
  {
   "cell_type": "code",
   "execution_count": 2,
   "id": "09dc8718",
   "metadata": {},
   "outputs": [],
   "source": [
    "# This function implements the Iterative Deepening Depth-Limited Search algorithm to search for a goal node in a \n",
    "# tree\n",
    "# Parameters:\n",
    "#    node (Node) : the starting node for the search\n",
    "#    goal (object) : the value to search for\n",
    "# Returns:\n",
    "#    A string message indicating whether the goal node was found or not within the specified depth limit.\n",
    "#    If the goal node was found, the message will say \"The goal node was successfully found :)\".\n",
    "#    If the goal node was not found within the specified depth limit, the message will say \"The goal node was not \n",
    "#    found within this depth limit :(\".\n",
    "\n",
    "def idls(node, goal):\n",
    "    limit = 0\n",
    "    while True:\n",
    "        if rdls(node, goal, limit):\n",
    "            return \"The goal node was successfully found :)\"\n",
    "        if limit >= 100:\n",
    "            return \"The goal node was not found within this depth limit :(\"\n",
    "        limit += 1"
   ]
  },
  {
   "cell_type": "raw",
   "id": "ec5778f8",
   "metadata": {},
   "source": [
    "Node class :"
   ]
  },
  {
   "cell_type": "code",
   "execution_count": 3,
   "id": "17b676d8",
   "metadata": {},
   "outputs": [],
   "source": [
    "# Node class has two attributes, value and children\n",
    "\n",
    "class Node:\n",
    "    # Constructor / Initializer\n",
    "    def __init__(self, value, children = None):\n",
    "        self.value = value\n",
    "        self.children = children if children else []\n",
    "    # Helps affecting children to nodes, one at a time\n",
    "    def add_child(self, child):\n",
    "        self.children.append(child)\n",
    "    # ToString function\n",
    "    def __repr__(self):\n",
    "        return f\"Node({self.value})\""
   ]
  },
  {
   "cell_type": "raw",
   "id": "a7bbe22a",
   "metadata": {},
   "source": [
    "A function that builds a simple tree for test :"
   ]
  },
  {
   "cell_type": "code",
   "execution_count": 4,
   "id": "e367838b",
   "metadata": {},
   "outputs": [],
   "source": [
    "# Test tree\n",
    "def build_tree():\n",
    "    root = Node(1)\n",
    "    node2 = Node(2)\n",
    "    node3 = Node(3)\n",
    "    node4 = Node(4)\n",
    "    node5 = Node(5)\n",
    "    node6 = Node(6)\n",
    "    node7 = Node(7)\n",
    "    node8 = Node(8)\n",
    "    node9 = Node(9)\n",
    "\n",
    "    root.add_child(node2)\n",
    "    root.add_child(node3)\n",
    "    node2.add_child(node4)\n",
    "    node2.add_child(node5)\n",
    "    node3.add_child(node6)\n",
    "    node3.add_child(node7)\n",
    "    node5.add_child(node8)\n",
    "    node5.add_child(node9)\n",
    "\n",
    "    return root"
   ]
  },
  {
   "cell_type": "raw",
   "id": "4794a190",
   "metadata": {},
   "source": [
    "Main program :"
   ]
  },
  {
   "cell_type": "code",
   "execution_count": 9,
   "id": "ba6d7619",
   "metadata": {},
   "outputs": [
    {
     "name": "stdout",
     "output_type": "stream",
     "text": [
      "The goal node was successfully found :)\n"
     ]
    }
   ],
   "source": [
    "# Main\n",
    "if __name__ == \"__main__\":\n",
    "    root = build_tree()\n",
    "    goal = 7\n",
    "    result = idls(root, goal)\n",
    "    print(result)"
   ]
  }
 ],
 "metadata": {
  "kernelspec": {
   "display_name": "Python 3 (ipykernel)",
   "language": "python",
   "name": "python3"
  },
  "language_info": {
   "codemirror_mode": {
    "name": "ipython",
    "version": 3
   },
   "file_extension": ".py",
   "mimetype": "text/x-python",
   "name": "python",
   "nbconvert_exporter": "python",
   "pygments_lexer": "ipython3",
   "version": "3.10.6"
  }
 },
 "nbformat": 4,
 "nbformat_minor": 5
}
